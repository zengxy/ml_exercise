{
 "cells": [
  {
   "cell_type": "markdown",
   "metadata": {
    "collapsed": true
   },
   "source": [
    "## EM算法和GMM模型\n",
    "参考：\n",
    "+ [如何感性地理解EM算法--简书](http://www.jianshu.com/p/1121509ac1dc)\n",
    "+ [GMM](http://blog.sina.com.cn/s/blog_54d460e40101ec00.html)\n",
    "+ [EM](http://www.cnblogs.com/jerrylead/archive/2011/04/06/2006936.html)\n"
   ]
  },
  {
   "cell_type": "markdown",
   "metadata": {},
   "source": [
    "### 1. 生成数据"
   ]
  },
  {
   "cell_type": "code",
   "execution_count": 43,
   "metadata": {
    "collapsed": false
   },
   "outputs": [
    {
     "name": "stdout",
     "output_type": "stream",
     "text": [
      "类别概率： [ 0.37055675  0.2182919   0.41115134]\n",
      "样本数目： [56 33 61]\n"
     ]
    },
    {
     "data": {
      "image/png": "[encoded data removed]",
      "text/plain": [
       "<matplotlib.figure.Figure at 0x7f57b5306198>"
      ]
     },
     "metadata": {},
     "output_type": "display_data"
    }
   ],
   "source": [
    "import numpy as np\n",
    "import matplotlib.pyplot as plt\n",
    "import matplotlib.markers as plt_markers\n",
    "import matplotlib.colors as plt_colors\n",
    "\n",
    "# 类别数,均值,标准差，生成样本数目\n",
    "class_num = 3\n",
    "dim = 2\n",
    "means = np.random.uniform(low=-10,high=10,size=(class_num,dim))\n",
    "cov = np.eye(N=dim) #都使用eye(1)作为协方差\n",
    "sample_num_all = 50*class_num\n",
    "\n",
    "# 生成每个类别的概率和样本数目\n",
    "class_weights = np.random.random(size=class_num)\n",
    "class_weights = class_weights/class_weights.sum()\n",
    "sample_nums = np.around(sample_num_all*class_weights).astype(np.int)\n",
    "sample_nums[-1] = sample_num_all - sample_nums[:-1].sum()\n",
    "print(\"类别概率：\",class_weights)\n",
    "print(\"样本数目：\",sample_nums)\n",
    "\n",
    "# 画图的marker和color\n",
    "markers_used = plt_markers.MarkerStyle.filled_markers\n",
    "colors_used = list(plt_colors.cnames.keys())\n",
    "colors_used = \"bgrcmykw\"\n",
    "\n",
    "# 生成样本\n",
    "sample_all = []\n",
    "for i in range(class_num):\n",
    "    sample_temp = \\\n",
    "        np.random.multivariate_normal(means[i],cov,size=sample_nums[i])\n",
    "    sample_all.append(sample_temp)\n",
    "    plt.scatter(x=sample_temp[:,0],y=sample_temp[:,1],\n",
    "                c=colors_used[i],marker=markers_used[i])\n",
    "plt.show()\n",
    "sample_all = np.concatenate(sample_all)"
   ]
  },
  {
   "cell_type": "markdown",
   "metadata": {},
   "source": [
    "### 2. 迭代求解\n",
    "均值：$\\mu_k = \\frac{1}{\\sum_i w(i,k)}\\sum_i w(i,k)\\cdot x_i$\n",
    "\n",
    "协方差矩阵：$\\Sigma_k = \\frac{1}{\\sum_i w(i,k)} \\sum_i w(i,k)\\cdot (x_i - \\mu_k)^T\\cdot(x_i-\\mu_k)$\n",
    "\n",
    "分布权重：$\\pi_k = \\frac{\\sum_i w(i,k)}{N}$"
   ]
  },
  {
   "cell_type": "code",
   "execution_count": 78,
   "metadata": {
    "collapsed": false
   },
   "outputs": [
    {
     "name": "stdout",
     "output_type": "stream",
     "text": [
      "means： [[ 0.67151888  0.07388553]\n",
      " [ 0.02040605  0.04160324]\n",
      " [ 0.22785854  0.0189937 ]]\n",
      "cov： [[ 0.14304788  0.        ]\n",
      " [ 0.          0.14304788]]\n"
     ]
    }
   ],
   "source": [
    "# 初始化参数\n",
    "pi_predict = np.random.random(size=class_num)\n",
    "pi_predict = pi_predict/pi_predict.sum()\n",
    "\n",
    "means_predict = np.random.random(size=(class_num,dim))\n",
    "print(\"means：\",means_predict)\n",
    "\n",
    "# 生成半正定的协方差矩阵\n",
    "# cov_predict = np.random.random(size=(dim,dim))  \n",
    "# cov_predict = cov_predict.T.dot(cov_predict)\n",
    "# 使用纯对角线的方式生成\n",
    "cov_predict = np.eye(N=dim)*np.random.random(size=1)\n",
    "print(\"cov：\",cov_predict)"
   ]
  },
  {
   "cell_type": "code",
   "execution_count": 86,
   "metadata": {
    "collapsed": false
   },
   "outputs": [
    {
     "name": "stdout",
     "output_type": "stream",
     "text": [
      "means:  [[ 5.27999436 -4.57248317]\n",
      " [-3.54728283 -0.49046016]\n",
      " [ 1.15010282 -1.07414564]]\n",
      "Pi： [ 0.37398129  0.40085977  0.22515894]\n",
      "Cov： [[ 0.83812781 -0.10288788]\n",
      " [-0.10288788  1.01628649]]\n"
     ]
    }
   ],
   "source": [
    "import scipy.stats\n",
    "# E步: 计算每个类的条件概率\n",
    "w_ik = []\n",
    "for k in range(class_num):\n",
    "    w_k = scipy.stats.multivariate_normal.pdf(mean=means_predict[k],cov=cov_predict,\n",
    "                                              x=sample_all)\n",
    "    w_ik.append(w_k.reshape(sample_num_all,1))\n",
    "w_ik = np.concatenate(w_ik,axis=1)\n",
    "w_ik = w_ik/w_ik.sum(axis=1,keepdims=True)\n",
    "\n",
    "#M步：估计参数\n",
    "\n",
    "# 估计均值\n",
    "# sample_all: sample*dim -> sample*1*dim\n",
    "# w_ik: sample*k -> sample*k*1\n",
    "means_predict = (sample_all[:,np.newaxis]*w_ik[:,:,np.newaxis]).sum(axis=0) \\\n",
    "                        /(w_ik.sum(axis=0)[:,np.newaxis])\n",
    "\n",
    "# 估计协方差矩阵\n",
    "# x_sub_mean: 1*sample*dim - k*1*dim = k*sample*dim\n",
    "x_sub_mean = sample_all[np.newaxis,:,:]-means_predict[:,np.newaxis,:]\n",
    "# w_ik.T[:,:,np.newaxis]*x_sub_mean: k*sample*1 * k*sample*dim =  k*sample*dim\n",
    "# cov_predict: k*dim*sample (matmul) k*sample*dim = k*dim*dim\n",
    "cov_predict = np.matmul(x_sub_mean.transpose(0,2,1), w_ik.T[:,:,np.newaxis]*x_sub_mean) \\\n",
    "                        /(w_ik.sum(axis=0)[:,np.newaxis,np.newaxis])\n",
    "cov_predict = cov_predict.mean(axis=0)\n",
    "\n",
    "# 估计权重\n",
    "pi_predict = w_ik.sum(axis=0)/sample_num_all\n",
    "\n",
    "print(\"means: \",means_predict)\n",
    "print(\"Pi：\",pi_predict)\n",
    "print(\"Cov：\",cov_predict)"
   ]
  },
  {
   "cell_type": "code",
   "execution_count": 87,
   "metadata": {
    "collapsed": false
   },
   "outputs": [
    {
     "data": {
      "image/png": "[encoded data removed]",
      "text/plain": [
       "<matplotlib.figure.Figure at 0x7f57bd4e2320>"
      ]
     },
     "metadata": {},
     "output_type": "display_data"
    }
   ],
   "source": [
    "# 画出分类结果\n",
    "p_ik = []\n",
    "for k in range(class_num):\n",
    "    p_k = scipy.stats.multivariate_normal.pdf(mean=means_predict[k],cov=cov_predict,\n",
    "                                              x=sample_all)\n",
    "    p_ik.append(p_k.reshape(sample_num_all,1))\n",
    "p_ik = np.concatenate(p_ik,axis=1)\n",
    "predict = np.argmax(p_ik,axis=1)\n",
    "for k in range(class_num):\n",
    "    index_temp = np.where(predict==k)\n",
    "    sample_predict_k = sample_all[index_temp]\n",
    "    plt.scatter(x=sample_predict_k[:,0],y=sample_predict_k[:,1],\n",
    "                c=colors_used[k],marker=markers_used[k])\n",
    "plt.show()\n",
    "    "
   ]
  }
 ],
 "metadata": {
  "kernelspec": {
   "display_name": "Python 3",
   "language": "python",
   "name": "python3"
  },
  "language_info": {
   "codemirror_mode": {
    "name": "ipython",
    "version": 3
   },
   "file_extension": ".py",
   "mimetype": "text/x-python",
   "name": "python",
   "nbconvert_exporter": "python",
   "pygments_lexer": "ipython3",
   "version": "3.4.2"
  }
 },
 "nbformat": 4,
 "nbformat_minor": 2
}
